{
  "cells": [
    {
      "cell_type": "markdown",
      "id": "622f35f4-7f6b-4e96-8a7e-0d90380af87a",
      "metadata": {
        "id": "622f35f4-7f6b-4e96-8a7e-0d90380af87a"
      },
      "source": [
        "# Data Preprocessing"
      ]
    },
    {
      "cell_type": "markdown",
      "id": "2c6b530f-dfb6-4274-a40c-2bccf3fa001d",
      "metadata": {
        "id": "2c6b530f-dfb6-4274-a40c-2bccf3fa001d"
      },
      "source": [
        "## Import Libraries"
      ]
    },
    {
      "cell_type": "code",
      "source": [
        "from google.colab import drive\n",
        "drive.mount('/content/drive')"
      ],
      "metadata": {
        "colab": {
          "base_uri": "https://localhost:8080/"
        },
        "id": "1dvK6rsm75Zl",
        "outputId": "f1c91bdf-fe43-4a00-d1d1-246c2b28aaa7"
      },
      "id": "1dvK6rsm75Zl",
      "execution_count": 1,
      "outputs": [
        {
          "output_type": "stream",
          "name": "stdout",
          "text": [
            "Mounted at /content/drive\n"
          ]
        }
      ]
    },
    {
      "cell_type": "code",
      "execution_count": 2,
      "id": "a86eb9d0-c1c0-46a6-bf6c-ddd06dd70752",
      "metadata": {
        "id": "a86eb9d0-c1c0-46a6-bf6c-ddd06dd70752"
      },
      "outputs": [],
      "source": [
        "import pandas as pd\n",
        "import numpy as np"
      ]
    },
    {
      "cell_type": "markdown",
      "id": "206650b5-ae7d-463f-aa19-8ebcbf931a31",
      "metadata": {
        "id": "206650b5-ae7d-463f-aa19-8ebcbf931a31"
      },
      "source": [
        "## Read the dataset"
      ]
    },
    {
      "cell_type": "code",
      "execution_count": 3,
      "id": "0b2888cf-22ac-41b5-a2bb-a21277be5ada",
      "metadata": {
        "id": "0b2888cf-22ac-41b5-a2bb-a21277be5ada"
      },
      "outputs": [],
      "source": [
        "df = pd.read_csv(\"/content/drive/MyDrive/MachineLearning/MTH-IDS/NSL-KDD/KDDTrain+.txt\")"
      ]
    },
    {
      "cell_type": "code",
      "source": [
        "df.shape"
      ],
      "metadata": {
        "colab": {
          "base_uri": "https://localhost:8080/"
        },
        "id": "I3-pNQZC9Qtk",
        "outputId": "66f930e4-0947-45a9-8a4e-93337a7ca0f3"
      },
      "id": "I3-pNQZC9Qtk",
      "execution_count": 5,
      "outputs": [
        {
          "output_type": "execute_result",
          "data": {
            "text/plain": [
              "(125972, 43)"
            ]
          },
          "metadata": {},
          "execution_count": 5
        }
      ]
    },
    {
      "cell_type": "markdown",
      "id": "e47bdfcc-9c63-42bf-8185-133d4e173c6b",
      "metadata": {
        "id": "e47bdfcc-9c63-42bf-8185-133d4e173c6b"
      },
      "source": [
        "### First 5 rows of the dataset"
      ]
    },
    {
      "cell_type": "code",
      "execution_count": 6,
      "id": "2bf52532-9fc9-4e18-9648-4c18def7d1f9",
      "metadata": {
        "colab": {
          "base_uri": "https://localhost:8080/",
          "height": 256
        },
        "id": "2bf52532-9fc9-4e18-9648-4c18def7d1f9",
        "outputId": "c780cf49-8fbb-4115-8a7e-1475de50570c"
      },
      "outputs": [
        {
          "output_type": "execute_result",
          "data": {
            "text/plain": [
              "   0  tcp ftp_data   SF  491   0.1  0.2  0.3  0.4  0.5  ...  0.17  0.03  \\\n",
              "0  0  udp    other   SF  146     0    0    0    0    0  ...  0.00  0.60   \n",
              "1  0  tcp  private   S0    0     0    0    0    0    0  ...  0.10  0.05   \n",
              "2  0  tcp     http   SF  232  8153    0    0    0    0  ...  1.00  0.00   \n",
              "3  0  tcp     http   SF  199   420    0    0    0    0  ...  1.00  0.00   \n",
              "4  0  tcp  private  REJ    0     0    0    0    0    0  ...  0.07  0.07   \n",
              "\n",
              "   0.17.1  0.00.6  0.00.7  0.00.8  0.05  0.00.9   normal  20  \n",
              "0    0.88    0.00    0.00    0.00   0.0    0.00   normal  15  \n",
              "1    0.00    0.00    1.00    1.00   0.0    0.00  neptune  19  \n",
              "2    0.03    0.04    0.03    0.01   0.0    0.01   normal  21  \n",
              "3    0.00    0.00    0.00    0.00   0.0    0.00   normal  21  \n",
              "4    0.00    0.00    0.00    0.00   1.0    1.00  neptune  21  \n",
              "\n",
              "[5 rows x 43 columns]"
            ],
            "text/html": [
              "\n",
              "  <div id=\"df-c20c9cd2-a68d-4097-96b3-fa98ca3bcf00\" class=\"colab-df-container\">\n",
              "    <div>\n",
              "<style scoped>\n",
              "    .dataframe tbody tr th:only-of-type {\n",
              "        vertical-align: middle;\n",
              "    }\n",
              "\n",
              "    .dataframe tbody tr th {\n",
              "        vertical-align: top;\n",
              "    }\n",
              "\n",
              "    .dataframe thead th {\n",
              "        text-align: right;\n",
              "    }\n",
              "</style>\n",
              "<table border=\"1\" class=\"dataframe\">\n",
              "  <thead>\n",
              "    <tr style=\"text-align: right;\">\n",
              "      <th></th>\n",
              "      <th>0</th>\n",
              "      <th>tcp</th>\n",
              "      <th>ftp_data</th>\n",
              "      <th>SF</th>\n",
              "      <th>491</th>\n",
              "      <th>0.1</th>\n",
              "      <th>0.2</th>\n",
              "      <th>0.3</th>\n",
              "      <th>0.4</th>\n",
              "      <th>0.5</th>\n",
              "      <th>...</th>\n",
              "      <th>0.17</th>\n",
              "      <th>0.03</th>\n",
              "      <th>0.17.1</th>\n",
              "      <th>0.00.6</th>\n",
              "      <th>0.00.7</th>\n",
              "      <th>0.00.8</th>\n",
              "      <th>0.05</th>\n",
              "      <th>0.00.9</th>\n",
              "      <th>normal</th>\n",
              "      <th>20</th>\n",
              "    </tr>\n",
              "  </thead>\n",
              "  <tbody>\n",
              "    <tr>\n",
              "      <th>0</th>\n",
              "      <td>0</td>\n",
              "      <td>udp</td>\n",
              "      <td>other</td>\n",
              "      <td>SF</td>\n",
              "      <td>146</td>\n",
              "      <td>0</td>\n",
              "      <td>0</td>\n",
              "      <td>0</td>\n",
              "      <td>0</td>\n",
              "      <td>0</td>\n",
              "      <td>...</td>\n",
              "      <td>0.00</td>\n",
              "      <td>0.60</td>\n",
              "      <td>0.88</td>\n",
              "      <td>0.00</td>\n",
              "      <td>0.00</td>\n",
              "      <td>0.00</td>\n",
              "      <td>0.0</td>\n",
              "      <td>0.00</td>\n",
              "      <td>normal</td>\n",
              "      <td>15</td>\n",
              "    </tr>\n",
              "    <tr>\n",
              "      <th>1</th>\n",
              "      <td>0</td>\n",
              "      <td>tcp</td>\n",
              "      <td>private</td>\n",
              "      <td>S0</td>\n",
              "      <td>0</td>\n",
              "      <td>0</td>\n",
              "      <td>0</td>\n",
              "      <td>0</td>\n",
              "      <td>0</td>\n",
              "      <td>0</td>\n",
              "      <td>...</td>\n",
              "      <td>0.10</td>\n",
              "      <td>0.05</td>\n",
              "      <td>0.00</td>\n",
              "      <td>0.00</td>\n",
              "      <td>1.00</td>\n",
              "      <td>1.00</td>\n",
              "      <td>0.0</td>\n",
              "      <td>0.00</td>\n",
              "      <td>neptune</td>\n",
              "      <td>19</td>\n",
              "    </tr>\n",
              "    <tr>\n",
              "      <th>2</th>\n",
              "      <td>0</td>\n",
              "      <td>tcp</td>\n",
              "      <td>http</td>\n",
              "      <td>SF</td>\n",
              "      <td>232</td>\n",
              "      <td>8153</td>\n",
              "      <td>0</td>\n",
              "      <td>0</td>\n",
              "      <td>0</td>\n",
              "      <td>0</td>\n",
              "      <td>...</td>\n",
              "      <td>1.00</td>\n",
              "      <td>0.00</td>\n",
              "      <td>0.03</td>\n",
              "      <td>0.04</td>\n",
              "      <td>0.03</td>\n",
              "      <td>0.01</td>\n",
              "      <td>0.0</td>\n",
              "      <td>0.01</td>\n",
              "      <td>normal</td>\n",
              "      <td>21</td>\n",
              "    </tr>\n",
              "    <tr>\n",
              "      <th>3</th>\n",
              "      <td>0</td>\n",
              "      <td>tcp</td>\n",
              "      <td>http</td>\n",
              "      <td>SF</td>\n",
              "      <td>199</td>\n",
              "      <td>420</td>\n",
              "      <td>0</td>\n",
              "      <td>0</td>\n",
              "      <td>0</td>\n",
              "      <td>0</td>\n",
              "      <td>...</td>\n",
              "      <td>1.00</td>\n",
              "      <td>0.00</td>\n",
              "      <td>0.00</td>\n",
              "      <td>0.00</td>\n",
              "      <td>0.00</td>\n",
              "      <td>0.00</td>\n",
              "      <td>0.0</td>\n",
              "      <td>0.00</td>\n",
              "      <td>normal</td>\n",
              "      <td>21</td>\n",
              "    </tr>\n",
              "    <tr>\n",
              "      <th>4</th>\n",
              "      <td>0</td>\n",
              "      <td>tcp</td>\n",
              "      <td>private</td>\n",
              "      <td>REJ</td>\n",
              "      <td>0</td>\n",
              "      <td>0</td>\n",
              "      <td>0</td>\n",
              "      <td>0</td>\n",
              "      <td>0</td>\n",
              "      <td>0</td>\n",
              "      <td>...</td>\n",
              "      <td>0.07</td>\n",
              "      <td>0.07</td>\n",
              "      <td>0.00</td>\n",
              "      <td>0.00</td>\n",
              "      <td>0.00</td>\n",
              "      <td>0.00</td>\n",
              "      <td>1.0</td>\n",
              "      <td>1.00</td>\n",
              "      <td>neptune</td>\n",
              "      <td>21</td>\n",
              "    </tr>\n",
              "  </tbody>\n",
              "</table>\n",
              "<p>5 rows × 43 columns</p>\n",
              "</div>\n",
              "    <div class=\"colab-df-buttons\">\n",
              "\n",
              "  <div class=\"colab-df-container\">\n",
              "    <button class=\"colab-df-convert\" onclick=\"convertToInteractive('df-c20c9cd2-a68d-4097-96b3-fa98ca3bcf00')\"\n",
              "            title=\"Convert this dataframe to an interactive table.\"\n",
              "            style=\"display:none;\">\n",
              "\n",
              "  <svg xmlns=\"http://www.w3.org/2000/svg\" height=\"24px\" viewBox=\"0 -960 960 960\">\n",
              "    <path d=\"M120-120v-720h720v720H120Zm60-500h600v-160H180v160Zm220 220h160v-160H400v160Zm0 220h160v-160H400v160ZM180-400h160v-160H180v160Zm440 0h160v-160H620v160ZM180-180h160v-160H180v160Zm440 0h160v-160H620v160Z\"/>\n",
              "  </svg>\n",
              "    </button>\n",
              "\n",
              "  <style>\n",
              "    .colab-df-container {\n",
              "      display:flex;\n",
              "      gap: 12px;\n",
              "    }\n",
              "\n",
              "    .colab-df-convert {\n",
              "      background-color: #E8F0FE;\n",
              "      border: none;\n",
              "      border-radius: 50%;\n",
              "      cursor: pointer;\n",
              "      display: none;\n",
              "      fill: #1967D2;\n",
              "      height: 32px;\n",
              "      padding: 0 0 0 0;\n",
              "      width: 32px;\n",
              "    }\n",
              "\n",
              "    .colab-df-convert:hover {\n",
              "      background-color: #E2EBFA;\n",
              "      box-shadow: 0px 1px 2px rgba(60, 64, 67, 0.3), 0px 1px 3px 1px rgba(60, 64, 67, 0.15);\n",
              "      fill: #174EA6;\n",
              "    }\n",
              "\n",
              "    .colab-df-buttons div {\n",
              "      margin-bottom: 4px;\n",
              "    }\n",
              "\n",
              "    [theme=dark] .colab-df-convert {\n",
              "      background-color: #3B4455;\n",
              "      fill: #D2E3FC;\n",
              "    }\n",
              "\n",
              "    [theme=dark] .colab-df-convert:hover {\n",
              "      background-color: #434B5C;\n",
              "      box-shadow: 0px 1px 3px 1px rgba(0, 0, 0, 0.15);\n",
              "      filter: drop-shadow(0px 1px 2px rgba(0, 0, 0, 0.3));\n",
              "      fill: #FFFFFF;\n",
              "    }\n",
              "  </style>\n",
              "\n",
              "    <script>\n",
              "      const buttonEl =\n",
              "        document.querySelector('#df-c20c9cd2-a68d-4097-96b3-fa98ca3bcf00 button.colab-df-convert');\n",
              "      buttonEl.style.display =\n",
              "        google.colab.kernel.accessAllowed ? 'block' : 'none';\n",
              "\n",
              "      async function convertToInteractive(key) {\n",
              "        const element = document.querySelector('#df-c20c9cd2-a68d-4097-96b3-fa98ca3bcf00');\n",
              "        const dataTable =\n",
              "          await google.colab.kernel.invokeFunction('convertToInteractive',\n",
              "                                                    [key], {});\n",
              "        if (!dataTable) return;\n",
              "\n",
              "        const docLinkHtml = 'Like what you see? Visit the ' +\n",
              "          '<a target=\"_blank\" href=https://colab.research.google.com/notebooks/data_table.ipynb>data table notebook</a>'\n",
              "          + ' to learn more about interactive tables.';\n",
              "        element.innerHTML = '';\n",
              "        dataTable['output_type'] = 'display_data';\n",
              "        await google.colab.output.renderOutput(dataTable, element);\n",
              "        const docLink = document.createElement('div');\n",
              "        docLink.innerHTML = docLinkHtml;\n",
              "        element.appendChild(docLink);\n",
              "      }\n",
              "    </script>\n",
              "  </div>\n",
              "\n",
              "\n",
              "<div id=\"df-3f3a21e4-190e-4d1b-8315-65858cc990c4\">\n",
              "  <button class=\"colab-df-quickchart\" onclick=\"quickchart('df-3f3a21e4-190e-4d1b-8315-65858cc990c4')\"\n",
              "            title=\"Suggest charts\"\n",
              "            style=\"display:none;\">\n",
              "\n",
              "<svg xmlns=\"http://www.w3.org/2000/svg\" height=\"24px\"viewBox=\"0 0 24 24\"\n",
              "     width=\"24px\">\n",
              "    <g>\n",
              "        <path d=\"M19 3H5c-1.1 0-2 .9-2 2v14c0 1.1.9 2 2 2h14c1.1 0 2-.9 2-2V5c0-1.1-.9-2-2-2zM9 17H7v-7h2v7zm4 0h-2V7h2v10zm4 0h-2v-4h2v4z\"/>\n",
              "    </g>\n",
              "</svg>\n",
              "  </button>\n",
              "\n",
              "<style>\n",
              "  .colab-df-quickchart {\n",
              "      --bg-color: #E8F0FE;\n",
              "      --fill-color: #1967D2;\n",
              "      --hover-bg-color: #E2EBFA;\n",
              "      --hover-fill-color: #174EA6;\n",
              "      --disabled-fill-color: #AAA;\n",
              "      --disabled-bg-color: #DDD;\n",
              "  }\n",
              "\n",
              "  [theme=dark] .colab-df-quickchart {\n",
              "      --bg-color: #3B4455;\n",
              "      --fill-color: #D2E3FC;\n",
              "      --hover-bg-color: #434B5C;\n",
              "      --hover-fill-color: #FFFFFF;\n",
              "      --disabled-bg-color: #3B4455;\n",
              "      --disabled-fill-color: #666;\n",
              "  }\n",
              "\n",
              "  .colab-df-quickchart {\n",
              "    background-color: var(--bg-color);\n",
              "    border: none;\n",
              "    border-radius: 50%;\n",
              "    cursor: pointer;\n",
              "    display: none;\n",
              "    fill: var(--fill-color);\n",
              "    height: 32px;\n",
              "    padding: 0;\n",
              "    width: 32px;\n",
              "  }\n",
              "\n",
              "  .colab-df-quickchart:hover {\n",
              "    background-color: var(--hover-bg-color);\n",
              "    box-shadow: 0 1px 2px rgba(60, 64, 67, 0.3), 0 1px 3px 1px rgba(60, 64, 67, 0.15);\n",
              "    fill: var(--button-hover-fill-color);\n",
              "  }\n",
              "\n",
              "  .colab-df-quickchart-complete:disabled,\n",
              "  .colab-df-quickchart-complete:disabled:hover {\n",
              "    background-color: var(--disabled-bg-color);\n",
              "    fill: var(--disabled-fill-color);\n",
              "    box-shadow: none;\n",
              "  }\n",
              "\n",
              "  .colab-df-spinner {\n",
              "    border: 2px solid var(--fill-color);\n",
              "    border-color: transparent;\n",
              "    border-bottom-color: var(--fill-color);\n",
              "    animation:\n",
              "      spin 1s steps(1) infinite;\n",
              "  }\n",
              "\n",
              "  @keyframes spin {\n",
              "    0% {\n",
              "      border-color: transparent;\n",
              "      border-bottom-color: var(--fill-color);\n",
              "      border-left-color: var(--fill-color);\n",
              "    }\n",
              "    20% {\n",
              "      border-color: transparent;\n",
              "      border-left-color: var(--fill-color);\n",
              "      border-top-color: var(--fill-color);\n",
              "    }\n",
              "    30% {\n",
              "      border-color: transparent;\n",
              "      border-left-color: var(--fill-color);\n",
              "      border-top-color: var(--fill-color);\n",
              "      border-right-color: var(--fill-color);\n",
              "    }\n",
              "    40% {\n",
              "      border-color: transparent;\n",
              "      border-right-color: var(--fill-color);\n",
              "      border-top-color: var(--fill-color);\n",
              "    }\n",
              "    60% {\n",
              "      border-color: transparent;\n",
              "      border-right-color: var(--fill-color);\n",
              "    }\n",
              "    80% {\n",
              "      border-color: transparent;\n",
              "      border-right-color: var(--fill-color);\n",
              "      border-bottom-color: var(--fill-color);\n",
              "    }\n",
              "    90% {\n",
              "      border-color: transparent;\n",
              "      border-bottom-color: var(--fill-color);\n",
              "    }\n",
              "  }\n",
              "</style>\n",
              "\n",
              "  <script>\n",
              "    async function quickchart(key) {\n",
              "      const quickchartButtonEl =\n",
              "        document.querySelector('#' + key + ' button');\n",
              "      quickchartButtonEl.disabled = true;  // To prevent multiple clicks.\n",
              "      quickchartButtonEl.classList.add('colab-df-spinner');\n",
              "      try {\n",
              "        const charts = await google.colab.kernel.invokeFunction(\n",
              "            'suggestCharts', [key], {});\n",
              "      } catch (error) {\n",
              "        console.error('Error during call to suggestCharts:', error);\n",
              "      }\n",
              "      quickchartButtonEl.classList.remove('colab-df-spinner');\n",
              "      quickchartButtonEl.classList.add('colab-df-quickchart-complete');\n",
              "    }\n",
              "    (() => {\n",
              "      let quickchartButtonEl =\n",
              "        document.querySelector('#df-3f3a21e4-190e-4d1b-8315-65858cc990c4 button');\n",
              "      quickchartButtonEl.style.display =\n",
              "        google.colab.kernel.accessAllowed ? 'block' : 'none';\n",
              "    })();\n",
              "  </script>\n",
              "</div>\n",
              "    </div>\n",
              "  </div>\n"
            ]
          },
          "metadata": {},
          "execution_count": 6
        }
      ],
      "source": [
        "df.head()"
      ]
    },
    {
      "cell_type": "code",
      "source": [
        "df.drop('20',axis=1,inplace=True)"
      ],
      "metadata": {
        "id": "7q3Mz1J_9gpz"
      },
      "id": "7q3Mz1J_9gpz",
      "execution_count": 7,
      "outputs": []
    },
    {
      "cell_type": "code",
      "source": [
        "columns = (['duration','protocol_type','service','flag','src_bytes','dst_bytes','land','wrong_fragment','urgent'\n",
        "            ,'hot','num_failed_logins','logged_in','num_compromised','root_shell','su_attempted','num_root'\n",
        "            ,'num_file_creations','num_shells','num_access_files','num_outbound_cmds','is_host_login'\n",
        "            ,'is_guest_login','count','srv_count','serror_rate','srv_serror_rate','rerror_rate','srv_rerror_rate'\n",
        "            ,'same_srv_rate','diff_srv_rate','srv_diff_host_rate','dst_host_count','dst_host_srv_count'\n",
        "            ,'dst_host_same_srv_rate','dst_host_diff_srv_rate','dst_host_same_src_port_rate'\n",
        "            ,'dst_host_srv_diff_host_rate','dst_host_serror_rate','dst_host_srv_serror_rate','dst_host_rerror_rate'\n",
        "            ,'dst_host_srv_rerror_rate','Attack'])"
      ],
      "metadata": {
        "id": "aUlJZDLl9ipB"
      },
      "id": "aUlJZDLl9ipB",
      "execution_count": 10,
      "outputs": []
    },
    {
      "cell_type": "code",
      "source": [
        "df.columns = columns"
      ],
      "metadata": {
        "id": "DaAlT8hG9lq0"
      },
      "id": "DaAlT8hG9lq0",
      "execution_count": 11,
      "outputs": []
    },
    {
      "cell_type": "code",
      "source": [
        "df.head()"
      ],
      "metadata": {
        "colab": {
          "base_uri": "https://localhost:8080/",
          "height": 256
        },
        "id": "h-fUtcF-9u-P",
        "outputId": "43cc2462-6f28-4442-d157-48778dc7c26d"
      },
      "id": "h-fUtcF-9u-P",
      "execution_count": 12,
      "outputs": [
        {
          "output_type": "execute_result",
          "data": {
            "text/plain": [
              "   duration protocol_type  service flag  src_bytes  dst_bytes  land  \\\n",
              "0         0           udp    other   SF        146          0     0   \n",
              "1         0           tcp  private   S0          0          0     0   \n",
              "2         0           tcp     http   SF        232       8153     0   \n",
              "3         0           tcp     http   SF        199        420     0   \n",
              "4         0           tcp  private  REJ          0          0     0   \n",
              "\n",
              "   wrong_fragment  urgent  hot  ...  dst_host_srv_count  \\\n",
              "0               0       0    0  ...                   1   \n",
              "1               0       0    0  ...                  26   \n",
              "2               0       0    0  ...                 255   \n",
              "3               0       0    0  ...                 255   \n",
              "4               0       0    0  ...                  19   \n",
              "\n",
              "   dst_host_same_srv_rate  dst_host_diff_srv_rate  \\\n",
              "0                    0.00                    0.60   \n",
              "1                    0.10                    0.05   \n",
              "2                    1.00                    0.00   \n",
              "3                    1.00                    0.00   \n",
              "4                    0.07                    0.07   \n",
              "\n",
              "   dst_host_same_src_port_rate  dst_host_srv_diff_host_rate  \\\n",
              "0                         0.88                         0.00   \n",
              "1                         0.00                         0.00   \n",
              "2                         0.03                         0.04   \n",
              "3                         0.00                         0.00   \n",
              "4                         0.00                         0.00   \n",
              "\n",
              "   dst_host_serror_rate  dst_host_srv_serror_rate  dst_host_rerror_rate  \\\n",
              "0                  0.00                      0.00                   0.0   \n",
              "1                  1.00                      1.00                   0.0   \n",
              "2                  0.03                      0.01                   0.0   \n",
              "3                  0.00                      0.00                   0.0   \n",
              "4                  0.00                      0.00                   1.0   \n",
              "\n",
              "   dst_host_srv_rerror_rate   Attack  \n",
              "0                      0.00   normal  \n",
              "1                      0.00  neptune  \n",
              "2                      0.01   normal  \n",
              "3                      0.00   normal  \n",
              "4                      1.00  neptune  \n",
              "\n",
              "[5 rows x 42 columns]"
            ],
            "text/html": [
              "\n",
              "  <div id=\"df-de292ddd-5b5a-4261-91df-94c85306d9aa\" class=\"colab-df-container\">\n",
              "    <div>\n",
              "<style scoped>\n",
              "    .dataframe tbody tr th:only-of-type {\n",
              "        vertical-align: middle;\n",
              "    }\n",
              "\n",
              "    .dataframe tbody tr th {\n",
              "        vertical-align: top;\n",
              "    }\n",
              "\n",
              "    .dataframe thead th {\n",
              "        text-align: right;\n",
              "    }\n",
              "</style>\n",
              "<table border=\"1\" class=\"dataframe\">\n",
              "  <thead>\n",
              "    <tr style=\"text-align: right;\">\n",
              "      <th></th>\n",
              "      <th>duration</th>\n",
              "      <th>protocol_type</th>\n",
              "      <th>service</th>\n",
              "      <th>flag</th>\n",
              "      <th>src_bytes</th>\n",
              "      <th>dst_bytes</th>\n",
              "      <th>land</th>\n",
              "      <th>wrong_fragment</th>\n",
              "      <th>urgent</th>\n",
              "      <th>hot</th>\n",
              "      <th>...</th>\n",
              "      <th>dst_host_srv_count</th>\n",
              "      <th>dst_host_same_srv_rate</th>\n",
              "      <th>dst_host_diff_srv_rate</th>\n",
              "      <th>dst_host_same_src_port_rate</th>\n",
              "      <th>dst_host_srv_diff_host_rate</th>\n",
              "      <th>dst_host_serror_rate</th>\n",
              "      <th>dst_host_srv_serror_rate</th>\n",
              "      <th>dst_host_rerror_rate</th>\n",
              "      <th>dst_host_srv_rerror_rate</th>\n",
              "      <th>Attack</th>\n",
              "    </tr>\n",
              "  </thead>\n",
              "  <tbody>\n",
              "    <tr>\n",
              "      <th>0</th>\n",
              "      <td>0</td>\n",
              "      <td>udp</td>\n",
              "      <td>other</td>\n",
              "      <td>SF</td>\n",
              "      <td>146</td>\n",
              "      <td>0</td>\n",
              "      <td>0</td>\n",
              "      <td>0</td>\n",
              "      <td>0</td>\n",
              "      <td>0</td>\n",
              "      <td>...</td>\n",
              "      <td>1</td>\n",
              "      <td>0.00</td>\n",
              "      <td>0.60</td>\n",
              "      <td>0.88</td>\n",
              "      <td>0.00</td>\n",
              "      <td>0.00</td>\n",
              "      <td>0.00</td>\n",
              "      <td>0.0</td>\n",
              "      <td>0.00</td>\n",
              "      <td>normal</td>\n",
              "    </tr>\n",
              "    <tr>\n",
              "      <th>1</th>\n",
              "      <td>0</td>\n",
              "      <td>tcp</td>\n",
              "      <td>private</td>\n",
              "      <td>S0</td>\n",
              "      <td>0</td>\n",
              "      <td>0</td>\n",
              "      <td>0</td>\n",
              "      <td>0</td>\n",
              "      <td>0</td>\n",
              "      <td>0</td>\n",
              "      <td>...</td>\n",
              "      <td>26</td>\n",
              "      <td>0.10</td>\n",
              "      <td>0.05</td>\n",
              "      <td>0.00</td>\n",
              "      <td>0.00</td>\n",
              "      <td>1.00</td>\n",
              "      <td>1.00</td>\n",
              "      <td>0.0</td>\n",
              "      <td>0.00</td>\n",
              "      <td>neptune</td>\n",
              "    </tr>\n",
              "    <tr>\n",
              "      <th>2</th>\n",
              "      <td>0</td>\n",
              "      <td>tcp</td>\n",
              "      <td>http</td>\n",
              "      <td>SF</td>\n",
              "      <td>232</td>\n",
              "      <td>8153</td>\n",
              "      <td>0</td>\n",
              "      <td>0</td>\n",
              "      <td>0</td>\n",
              "      <td>0</td>\n",
              "      <td>...</td>\n",
              "      <td>255</td>\n",
              "      <td>1.00</td>\n",
              "      <td>0.00</td>\n",
              "      <td>0.03</td>\n",
              "      <td>0.04</td>\n",
              "      <td>0.03</td>\n",
              "      <td>0.01</td>\n",
              "      <td>0.0</td>\n",
              "      <td>0.01</td>\n",
              "      <td>normal</td>\n",
              "    </tr>\n",
              "    <tr>\n",
              "      <th>3</th>\n",
              "      <td>0</td>\n",
              "      <td>tcp</td>\n",
              "      <td>http</td>\n",
              "      <td>SF</td>\n",
              "      <td>199</td>\n",
              "      <td>420</td>\n",
              "      <td>0</td>\n",
              "      <td>0</td>\n",
              "      <td>0</td>\n",
              "      <td>0</td>\n",
              "      <td>...</td>\n",
              "      <td>255</td>\n",
              "      <td>1.00</td>\n",
              "      <td>0.00</td>\n",
              "      <td>0.00</td>\n",
              "      <td>0.00</td>\n",
              "      <td>0.00</td>\n",
              "      <td>0.00</td>\n",
              "      <td>0.0</td>\n",
              "      <td>0.00</td>\n",
              "      <td>normal</td>\n",
              "    </tr>\n",
              "    <tr>\n",
              "      <th>4</th>\n",
              "      <td>0</td>\n",
              "      <td>tcp</td>\n",
              "      <td>private</td>\n",
              "      <td>REJ</td>\n",
              "      <td>0</td>\n",
              "      <td>0</td>\n",
              "      <td>0</td>\n",
              "      <td>0</td>\n",
              "      <td>0</td>\n",
              "      <td>0</td>\n",
              "      <td>...</td>\n",
              "      <td>19</td>\n",
              "      <td>0.07</td>\n",
              "      <td>0.07</td>\n",
              "      <td>0.00</td>\n",
              "      <td>0.00</td>\n",
              "      <td>0.00</td>\n",
              "      <td>0.00</td>\n",
              "      <td>1.0</td>\n",
              "      <td>1.00</td>\n",
              "      <td>neptune</td>\n",
              "    </tr>\n",
              "  </tbody>\n",
              "</table>\n",
              "<p>5 rows × 42 columns</p>\n",
              "</div>\n",
              "    <div class=\"colab-df-buttons\">\n",
              "\n",
              "  <div class=\"colab-df-container\">\n",
              "    <button class=\"colab-df-convert\" onclick=\"convertToInteractive('df-de292ddd-5b5a-4261-91df-94c85306d9aa')\"\n",
              "            title=\"Convert this dataframe to an interactive table.\"\n",
              "            style=\"display:none;\">\n",
              "\n",
              "  <svg xmlns=\"http://www.w3.org/2000/svg\" height=\"24px\" viewBox=\"0 -960 960 960\">\n",
              "    <path d=\"M120-120v-720h720v720H120Zm60-500h600v-160H180v160Zm220 220h160v-160H400v160Zm0 220h160v-160H400v160ZM180-400h160v-160H180v160Zm440 0h160v-160H620v160ZM180-180h160v-160H180v160Zm440 0h160v-160H620v160Z\"/>\n",
              "  </svg>\n",
              "    </button>\n",
              "\n",
              "  <style>\n",
              "    .colab-df-container {\n",
              "      display:flex;\n",
              "      gap: 12px;\n",
              "    }\n",
              "\n",
              "    .colab-df-convert {\n",
              "      background-color: #E8F0FE;\n",
              "      border: none;\n",
              "      border-radius: 50%;\n",
              "      cursor: pointer;\n",
              "      display: none;\n",
              "      fill: #1967D2;\n",
              "      height: 32px;\n",
              "      padding: 0 0 0 0;\n",
              "      width: 32px;\n",
              "    }\n",
              "\n",
              "    .colab-df-convert:hover {\n",
              "      background-color: #E2EBFA;\n",
              "      box-shadow: 0px 1px 2px rgba(60, 64, 67, 0.3), 0px 1px 3px 1px rgba(60, 64, 67, 0.15);\n",
              "      fill: #174EA6;\n",
              "    }\n",
              "\n",
              "    .colab-df-buttons div {\n",
              "      margin-bottom: 4px;\n",
              "    }\n",
              "\n",
              "    [theme=dark] .colab-df-convert {\n",
              "      background-color: #3B4455;\n",
              "      fill: #D2E3FC;\n",
              "    }\n",
              "\n",
              "    [theme=dark] .colab-df-convert:hover {\n",
              "      background-color: #434B5C;\n",
              "      box-shadow: 0px 1px 3px 1px rgba(0, 0, 0, 0.15);\n",
              "      filter: drop-shadow(0px 1px 2px rgba(0, 0, 0, 0.3));\n",
              "      fill: #FFFFFF;\n",
              "    }\n",
              "  </style>\n",
              "\n",
              "    <script>\n",
              "      const buttonEl =\n",
              "        document.querySelector('#df-de292ddd-5b5a-4261-91df-94c85306d9aa button.colab-df-convert');\n",
              "      buttonEl.style.display =\n",
              "        google.colab.kernel.accessAllowed ? 'block' : 'none';\n",
              "\n",
              "      async function convertToInteractive(key) {\n",
              "        const element = document.querySelector('#df-de292ddd-5b5a-4261-91df-94c85306d9aa');\n",
              "        const dataTable =\n",
              "          await google.colab.kernel.invokeFunction('convertToInteractive',\n",
              "                                                    [key], {});\n",
              "        if (!dataTable) return;\n",
              "\n",
              "        const docLinkHtml = 'Like what you see? Visit the ' +\n",
              "          '<a target=\"_blank\" href=https://colab.research.google.com/notebooks/data_table.ipynb>data table notebook</a>'\n",
              "          + ' to learn more about interactive tables.';\n",
              "        element.innerHTML = '';\n",
              "        dataTable['output_type'] = 'display_data';\n",
              "        await google.colab.output.renderOutput(dataTable, element);\n",
              "        const docLink = document.createElement('div');\n",
              "        docLink.innerHTML = docLinkHtml;\n",
              "        element.appendChild(docLink);\n",
              "      }\n",
              "    </script>\n",
              "  </div>\n",
              "\n",
              "\n",
              "<div id=\"df-412deedc-50d5-4b90-84ac-85a2e1c38d58\">\n",
              "  <button class=\"colab-df-quickchart\" onclick=\"quickchart('df-412deedc-50d5-4b90-84ac-85a2e1c38d58')\"\n",
              "            title=\"Suggest charts\"\n",
              "            style=\"display:none;\">\n",
              "\n",
              "<svg xmlns=\"http://www.w3.org/2000/svg\" height=\"24px\"viewBox=\"0 0 24 24\"\n",
              "     width=\"24px\">\n",
              "    <g>\n",
              "        <path d=\"M19 3H5c-1.1 0-2 .9-2 2v14c0 1.1.9 2 2 2h14c1.1 0 2-.9 2-2V5c0-1.1-.9-2-2-2zM9 17H7v-7h2v7zm4 0h-2V7h2v10zm4 0h-2v-4h2v4z\"/>\n",
              "    </g>\n",
              "</svg>\n",
              "  </button>\n",
              "\n",
              "<style>\n",
              "  .colab-df-quickchart {\n",
              "      --bg-color: #E8F0FE;\n",
              "      --fill-color: #1967D2;\n",
              "      --hover-bg-color: #E2EBFA;\n",
              "      --hover-fill-color: #174EA6;\n",
              "      --disabled-fill-color: #AAA;\n",
              "      --disabled-bg-color: #DDD;\n",
              "  }\n",
              "\n",
              "  [theme=dark] .colab-df-quickchart {\n",
              "      --bg-color: #3B4455;\n",
              "      --fill-color: #D2E3FC;\n",
              "      --hover-bg-color: #434B5C;\n",
              "      --hover-fill-color: #FFFFFF;\n",
              "      --disabled-bg-color: #3B4455;\n",
              "      --disabled-fill-color: #666;\n",
              "  }\n",
              "\n",
              "  .colab-df-quickchart {\n",
              "    background-color: var(--bg-color);\n",
              "    border: none;\n",
              "    border-radius: 50%;\n",
              "    cursor: pointer;\n",
              "    display: none;\n",
              "    fill: var(--fill-color);\n",
              "    height: 32px;\n",
              "    padding: 0;\n",
              "    width: 32px;\n",
              "  }\n",
              "\n",
              "  .colab-df-quickchart:hover {\n",
              "    background-color: var(--hover-bg-color);\n",
              "    box-shadow: 0 1px 2px rgba(60, 64, 67, 0.3), 0 1px 3px 1px rgba(60, 64, 67, 0.15);\n",
              "    fill: var(--button-hover-fill-color);\n",
              "  }\n",
              "\n",
              "  .colab-df-quickchart-complete:disabled,\n",
              "  .colab-df-quickchart-complete:disabled:hover {\n",
              "    background-color: var(--disabled-bg-color);\n",
              "    fill: var(--disabled-fill-color);\n",
              "    box-shadow: none;\n",
              "  }\n",
              "\n",
              "  .colab-df-spinner {\n",
              "    border: 2px solid var(--fill-color);\n",
              "    border-color: transparent;\n",
              "    border-bottom-color: var(--fill-color);\n",
              "    animation:\n",
              "      spin 1s steps(1) infinite;\n",
              "  }\n",
              "\n",
              "  @keyframes spin {\n",
              "    0% {\n",
              "      border-color: transparent;\n",
              "      border-bottom-color: var(--fill-color);\n",
              "      border-left-color: var(--fill-color);\n",
              "    }\n",
              "    20% {\n",
              "      border-color: transparent;\n",
              "      border-left-color: var(--fill-color);\n",
              "      border-top-color: var(--fill-color);\n",
              "    }\n",
              "    30% {\n",
              "      border-color: transparent;\n",
              "      border-left-color: var(--fill-color);\n",
              "      border-top-color: var(--fill-color);\n",
              "      border-right-color: var(--fill-color);\n",
              "    }\n",
              "    40% {\n",
              "      border-color: transparent;\n",
              "      border-right-color: var(--fill-color);\n",
              "      border-top-color: var(--fill-color);\n",
              "    }\n",
              "    60% {\n",
              "      border-color: transparent;\n",
              "      border-right-color: var(--fill-color);\n",
              "    }\n",
              "    80% {\n",
              "      border-color: transparent;\n",
              "      border-right-color: var(--fill-color);\n",
              "      border-bottom-color: var(--fill-color);\n",
              "    }\n",
              "    90% {\n",
              "      border-color: transparent;\n",
              "      border-bottom-color: var(--fill-color);\n",
              "    }\n",
              "  }\n",
              "</style>\n",
              "\n",
              "  <script>\n",
              "    async function quickchart(key) {\n",
              "      const quickchartButtonEl =\n",
              "        document.querySelector('#' + key + ' button');\n",
              "      quickchartButtonEl.disabled = true;  // To prevent multiple clicks.\n",
              "      quickchartButtonEl.classList.add('colab-df-spinner');\n",
              "      try {\n",
              "        const charts = await google.colab.kernel.invokeFunction(\n",
              "            'suggestCharts', [key], {});\n",
              "      } catch (error) {\n",
              "        console.error('Error during call to suggestCharts:', error);\n",
              "      }\n",
              "      quickchartButtonEl.classList.remove('colab-df-spinner');\n",
              "      quickchartButtonEl.classList.add('colab-df-quickchart-complete');\n",
              "    }\n",
              "    (() => {\n",
              "      let quickchartButtonEl =\n",
              "        document.querySelector('#df-412deedc-50d5-4b90-84ac-85a2e1c38d58 button');\n",
              "      quickchartButtonEl.style.display =\n",
              "        google.colab.kernel.accessAllowed ? 'block' : 'none';\n",
              "    })();\n",
              "  </script>\n",
              "</div>\n",
              "    </div>\n",
              "  </div>\n"
            ]
          },
          "metadata": {},
          "execution_count": 12
        }
      ]
    },
    {
      "cell_type": "markdown",
      "id": "708daff9-f6a1-4cbb-8335-710e1526c799",
      "metadata": {
        "id": "708daff9-f6a1-4cbb-8335-710e1526c799"
      },
      "source": [
        "### Number of columns and its data types"
      ]
    },
    {
      "cell_type": "code",
      "execution_count": 13,
      "id": "b90d21b0-0f55-4f01-9b73-42dc7e572a6e",
      "metadata": {
        "colab": {
          "base_uri": "https://localhost:8080/"
        },
        "id": "b90d21b0-0f55-4f01-9b73-42dc7e572a6e",
        "outputId": "d0a3d556-b64a-4875-c3ea-af58e1c81c63"
      },
      "outputs": [
        {
          "output_type": "stream",
          "name": "stdout",
          "text": [
            "<class 'pandas.core.frame.DataFrame'>\n",
            "RangeIndex: 125972 entries, 0 to 125971\n",
            "Data columns (total 42 columns):\n",
            " #   Column                       Non-Null Count   Dtype  \n",
            "---  ------                       --------------   -----  \n",
            " 0   duration                     125972 non-null  int64  \n",
            " 1   protocol_type                125972 non-null  object \n",
            " 2   service                      125972 non-null  object \n",
            " 3   flag                         125972 non-null  object \n",
            " 4   src_bytes                    125972 non-null  int64  \n",
            " 5   dst_bytes                    125972 non-null  int64  \n",
            " 6   land                         125972 non-null  int64  \n",
            " 7   wrong_fragment               125972 non-null  int64  \n",
            " 8   urgent                       125972 non-null  int64  \n",
            " 9   hot                          125972 non-null  int64  \n",
            " 10  num_failed_logins            125972 non-null  int64  \n",
            " 11  logged_in                    125972 non-null  int64  \n",
            " 12  num_compromised              125972 non-null  int64  \n",
            " 13  root_shell                   125972 non-null  int64  \n",
            " 14  su_attempted                 125972 non-null  int64  \n",
            " 15  num_root                     125972 non-null  int64  \n",
            " 16  num_file_creations           125972 non-null  int64  \n",
            " 17  num_shells                   125972 non-null  int64  \n",
            " 18  num_access_files             125972 non-null  int64  \n",
            " 19  num_outbound_cmds            125972 non-null  int64  \n",
            " 20  is_host_login                125972 non-null  int64  \n",
            " 21  is_guest_login               125972 non-null  int64  \n",
            " 22  count                        125972 non-null  int64  \n",
            " 23  srv_count                    125972 non-null  int64  \n",
            " 24  serror_rate                  125972 non-null  float64\n",
            " 25  srv_serror_rate              125972 non-null  float64\n",
            " 26  rerror_rate                  125972 non-null  float64\n",
            " 27  srv_rerror_rate              125972 non-null  float64\n",
            " 28  same_srv_rate                125972 non-null  float64\n",
            " 29  diff_srv_rate                125972 non-null  float64\n",
            " 30  srv_diff_host_rate           125972 non-null  float64\n",
            " 31  dst_host_count               125972 non-null  int64  \n",
            " 32  dst_host_srv_count           125972 non-null  int64  \n",
            " 33  dst_host_same_srv_rate       125972 non-null  float64\n",
            " 34  dst_host_diff_srv_rate       125972 non-null  float64\n",
            " 35  dst_host_same_src_port_rate  125972 non-null  float64\n",
            " 36  dst_host_srv_diff_host_rate  125972 non-null  float64\n",
            " 37  dst_host_serror_rate         125972 non-null  float64\n",
            " 38  dst_host_srv_serror_rate     125972 non-null  float64\n",
            " 39  dst_host_rerror_rate         125972 non-null  float64\n",
            " 40  dst_host_srv_rerror_rate     125972 non-null  float64\n",
            " 41  Attack                       125972 non-null  object \n",
            "dtypes: float64(15), int64(23), object(4)\n",
            "memory usage: 40.4+ MB\n"
          ]
        }
      ],
      "source": [
        "df.info()"
      ]
    },
    {
      "cell_type": "markdown",
      "id": "67a34ecf-65f8-4f7a-95f6-e142b325ebfe",
      "metadata": {
        "id": "67a34ecf-65f8-4f7a-95f6-e142b325ebfe"
      },
      "source": [
        "### Value Count of each attack types"
      ]
    },
    {
      "cell_type": "code",
      "execution_count": 14,
      "id": "e07161a2-1932-4535-b8f4-141f0e631a37",
      "metadata": {
        "colab": {
          "base_uri": "https://localhost:8080/"
        },
        "id": "e07161a2-1932-4535-b8f4-141f0e631a37",
        "outputId": "2a40f646-8302-45ae-a581-e4a4b4dbd2b3"
      },
      "outputs": [
        {
          "output_type": "execute_result",
          "data": {
            "text/plain": [
              "normal             67342\n",
              "neptune            41214\n",
              "satan               3633\n",
              "ipsweep             3599\n",
              "portsweep           2931\n",
              "smurf               2646\n",
              "nmap                1493\n",
              "back                 956\n",
              "teardrop             892\n",
              "warezclient          890\n",
              "pod                  201\n",
              "guess_passwd          53\n",
              "buffer_overflow       30\n",
              "warezmaster           20\n",
              "land                  18\n",
              "imap                  11\n",
              "rootkit               10\n",
              "loadmodule             9\n",
              "ftp_write              8\n",
              "multihop               7\n",
              "phf                    4\n",
              "perl                   3\n",
              "spy                    2\n",
              "Name: Attack, dtype: int64"
            ]
          },
          "metadata": {},
          "execution_count": 14
        }
      ],
      "source": [
        "df.Attack.value_counts()"
      ]
    },
    {
      "cell_type": "markdown",
      "id": "40887ce3-a164-4695-bcab-ca5a36c6001d",
      "metadata": {
        "id": "40887ce3-a164-4695-bcab-ca5a36c6001d"
      },
      "source": [
        "## Label Encoding to the dataset"
      ]
    },
    {
      "cell_type": "code",
      "execution_count": 15,
      "id": "7b9783fd-3008-4888-94b2-2ced30e73143",
      "metadata": {
        "id": "7b9783fd-3008-4888-94b2-2ced30e73143"
      },
      "outputs": [],
      "source": [
        "from sklearn.preprocessing import LabelEncoder"
      ]
    },
    {
      "cell_type": "code",
      "execution_count": 16,
      "id": "bd0289a7-6647-40d5-a67a-84a0ba0845f0",
      "metadata": {
        "colab": {
          "base_uri": "https://localhost:8080/"
        },
        "id": "bd0289a7-6647-40d5-a67a-84a0ba0845f0",
        "outputId": "53f43e0c-8726-49ae-f2f6-795cf3854a34"
      },
      "outputs": [
        {
          "output_type": "stream",
          "name": "stderr",
          "text": [
            "<ipython-input-16-aacf20931196>:2: DeprecationWarning: In a future version, `df.iloc[:, i] = newvals` will attempt to set the values inplace instead of always setting a new array. To retain the old behavior, use either `df[df.columns[i]] = newvals` or, if columns are non-unique, `df.isetitem(i, newvals)`\n",
            "  df.iloc[:, -1] = labelencoder.fit_transform(df.iloc[:, -1])\n"
          ]
        }
      ],
      "source": [
        "labelencoder = LabelEncoder()\n",
        "df.iloc[:, -1] = labelencoder.fit_transform(df.iloc[:, -1])"
      ]
    },
    {
      "cell_type": "markdown",
      "id": "5d70da1e-d564-4216-8e2c-b18986a79491",
      "metadata": {
        "id": "5d70da1e-d564-4216-8e2c-b18986a79491"
      },
      "source": [
        "### Checking the values now"
      ]
    },
    {
      "cell_type": "code",
      "execution_count": 19,
      "id": "77c4b47e-13e1-410e-987c-f3d8b7c6c1c3",
      "metadata": {
        "colab": {
          "base_uri": "https://localhost:8080/"
        },
        "id": "77c4b47e-13e1-410e-987c-f3d8b7c6c1c3",
        "outputId": "42023b1b-4d9b-4568-c34a-ba04077fa7ea"
      },
      "outputs": [
        {
          "output_type": "execute_result",
          "data": {
            "text/plain": [
              "11    67342\n",
              "9     41214\n",
              "17     3633\n",
              "5      3599\n",
              "15     2931\n",
              "18     2646\n",
              "10     1493\n",
              "0       956\n",
              "20      892\n",
              "21      890\n",
              "14      201\n",
              "3        53\n",
              "1        30\n",
              "22       20\n",
              "6        18\n",
              "4        11\n",
              "16       10\n",
              "7         9\n",
              "2         8\n",
              "8         7\n",
              "13        4\n",
              "12        3\n",
              "19        2\n",
              "Name: Attack, dtype: int64"
            ]
          },
          "metadata": {},
          "execution_count": 19
        }
      ],
      "source": [
        "df.Attack.value_counts()"
      ]
    },
    {
      "cell_type": "markdown",
      "id": "86e9cc24-bce7-4c9f-8982-c42aa6d9660a",
      "metadata": {
        "id": "86e9cc24-bce7-4c9f-8982-c42aa6d9660a"
      },
      "source": [
        "## 1. Removal of columns with object data type except the Attack Class\n",
        "### i.e. Flow id, Src IP and Dest IP"
      ]
    },
    {
      "cell_type": "markdown",
      "id": "425f8b85-d38a-4aab-8cb1-352ef918540d",
      "metadata": {
        "id": "425f8b85-d38a-4aab-8cb1-352ef918540d"
      },
      "source": [
        "#### Make a copy of attack column"
      ]
    },
    {
      "cell_type": "code",
      "execution_count": 20,
      "id": "9a515305-4ad1-4b28-92a5-d995ed7ea898",
      "metadata": {
        "id": "9a515305-4ad1-4b28-92a5-d995ed7ea898"
      },
      "outputs": [],
      "source": [
        "attack_column = df['Attack']"
      ]
    },
    {
      "cell_type": "markdown",
      "id": "aab544ba-f03f-4d35-a5e0-9100d9f257c2",
      "metadata": {
        "id": "aab544ba-f03f-4d35-a5e0-9100d9f257c2"
      },
      "source": [
        "#### Select all columns with data type other than 'object'"
      ]
    },
    {
      "cell_type": "code",
      "execution_count": 21,
      "id": "241aad35-671b-4da7-97ad-f9666077159a",
      "metadata": {
        "id": "241aad35-671b-4da7-97ad-f9666077159a"
      },
      "outputs": [],
      "source": [
        "numeric_cols = df.select_dtypes(exclude='object').columns.tolist()"
      ]
    },
    {
      "cell_type": "markdown",
      "id": "8899a007-cd32-4625-9b2e-37606a12457a",
      "metadata": {
        "id": "8899a007-cd32-4625-9b2e-37606a12457a"
      },
      "source": [
        "#### Drop all 'object' columns"
      ]
    },
    {
      "cell_type": "code",
      "execution_count": 22,
      "id": "93fe64fb-377a-49d5-b4b0-edc6c5149817",
      "metadata": {
        "id": "93fe64fb-377a-49d5-b4b0-edc6c5149817"
      },
      "outputs": [],
      "source": [
        "df = df[numeric_cols]"
      ]
    },
    {
      "cell_type": "markdown",
      "id": "4d035846-f247-4409-83cc-a6df39343b89",
      "metadata": {
        "id": "4d035846-f247-4409-83cc-a6df39343b89"
      },
      "source": [
        "#### Add the attack column again"
      ]
    },
    {
      "cell_type": "code",
      "execution_count": 23,
      "id": "b68e32cc-1af6-4ae4-b32b-9ed5ceee9e42",
      "metadata": {
        "id": "b68e32cc-1af6-4ae4-b32b-9ed5ceee9e42"
      },
      "outputs": [],
      "source": [
        "df['Attack'] = attack_column"
      ]
    },
    {
      "cell_type": "markdown",
      "id": "d5c331d6-d889-4861-853d-7eae53c2b264",
      "metadata": {
        "id": "d5c331d6-d889-4861-853d-7eae53c2b264"
      },
      "source": [
        "## 2. Checking and removal of NULL or INFINITY Values"
      ]
    },
    {
      "cell_type": "markdown",
      "id": "e3e00e4f-635e-4492-9a4d-9979cc46ced5",
      "metadata": {
        "id": "e3e00e4f-635e-4492-9a4d-9979cc46ced5"
      },
      "source": [
        "#### check if there is any null value in any column"
      ]
    },
    {
      "cell_type": "code",
      "execution_count": 24,
      "id": "ccf82f06-e343-4736-9bdc-6d866fafcc08",
      "metadata": {
        "colab": {
          "base_uri": "https://localhost:8080/"
        },
        "id": "ccf82f06-e343-4736-9bdc-6d866fafcc08",
        "outputId": "e9ead803-8301-4f42-d835-dd4f111a86b9"
      },
      "outputs": [
        {
          "output_type": "execute_result",
          "data": {
            "text/plain": [
              "False"
            ]
          },
          "metadata": {},
          "execution_count": 24
        }
      ],
      "source": [
        "df.isnull().any().any()"
      ]
    },
    {
      "cell_type": "markdown",
      "id": "fef8cd5b-02da-4a19-80ac-fc3ee87ec310",
      "metadata": {
        "id": "fef8cd5b-02da-4a19-80ac-fc3ee87ec310"
      },
      "source": [
        "#### replacing any infinity value in any column with null values"
      ]
    },
    {
      "cell_type": "code",
      "execution_count": 25,
      "id": "2ccce37f-874e-4b42-b826-6d58f73ddcc4",
      "metadata": {
        "id": "2ccce37f-874e-4b42-b826-6d58f73ddcc4"
      },
      "outputs": [],
      "source": [
        "df.replace([np.inf, -np.inf], np.nan, inplace=True)"
      ]
    },
    {
      "cell_type": "markdown",
      "id": "c10a3e39-e60f-4ad2-acc8-096dd68911fd",
      "metadata": {
        "id": "c10a3e39-e60f-4ad2-acc8-096dd68911fd"
      },
      "source": [
        "#### removing that values"
      ]
    },
    {
      "cell_type": "code",
      "execution_count": 26,
      "id": "9cb49198-303b-41ec-a7c8-56a4c531fbfd",
      "metadata": {
        "id": "9cb49198-303b-41ec-a7c8-56a4c531fbfd"
      },
      "outputs": [],
      "source": [
        "df = df.dropna()"
      ]
    },
    {
      "cell_type": "markdown",
      "id": "0226df5a-e5fa-4011-ad4b-96a66d6fa5d1",
      "metadata": {
        "id": "0226df5a-e5fa-4011-ad4b-96a66d6fa5d1"
      },
      "source": [
        "## 3. Sampling"
      ]
    },
    {
      "cell_type": "markdown",
      "id": "2e51fcea-ddbf-4d0c-8b67-e74e62d198ec",
      "metadata": {
        "id": "2e51fcea-ddbf-4d0c-8b67-e74e62d198ec"
      },
      "source": [
        "### Retain the minority class from sampling"
      ]
    },
    {
      "cell_type": "code",
      "execution_count": 27,
      "id": "7dd5d10b-3eb0-4f7e-b48f-30083ecb7b6c",
      "metadata": {
        "id": "7dd5d10b-3eb0-4f7e-b48f-30083ecb7b6c"
      },
      "outputs": [],
      "source": [
        "# df_minor = df[(df['Attack']==5)|(df['Attack']==2)|(df['Attack']==3)]\n",
        "# df_major = df.drop(df_minor.index)"
      ]
    },
    {
      "cell_type": "markdown",
      "id": "3149f7cc-8efa-4b13-9783-e775b8349298",
      "metadata": {
        "id": "3149f7cc-8efa-4b13-9783-e775b8349298"
      },
      "source": [
        "### Mini Batch K-means for clustering"
      ]
    },
    {
      "cell_type": "code",
      "execution_count": 28,
      "id": "67e08e3b-0833-4fc7-ba73-6943fc9f0c10",
      "metadata": {
        "id": "67e08e3b-0833-4fc7-ba73-6943fc9f0c10"
      },
      "outputs": [],
      "source": [
        "# X = df_major.drop(['Attack'],axis=1)\n",
        "# y = df_major.iloc[:, -1].values.reshape(-1,1)\n",
        "# y=np.ravel(y)"
      ]
    },
    {
      "cell_type": "code",
      "execution_count": 29,
      "id": "f2faa241-94ea-4cf3-90d9-41bdfeb84004",
      "metadata": {
        "id": "f2faa241-94ea-4cf3-90d9-41bdfeb84004"
      },
      "outputs": [],
      "source": [
        "# X.shape"
      ]
    },
    {
      "cell_type": "code",
      "execution_count": 30,
      "id": "e9421b81-1d70-40af-b13c-0ee65ee4f8f3",
      "metadata": {
        "scrolled": true,
        "id": "e9421b81-1d70-40af-b13c-0ee65ee4f8f3"
      },
      "outputs": [],
      "source": [
        "# from sklearn.cluster import MiniBatchKMeans\n",
        "# import warnings\n",
        "# from sklearn.exceptions import ConvergenceWarning\n",
        "\n",
        "# # Suppress ConvergenceWarning\n",
        "# warnings.filterwarnings(\"ignore\", category=FutureWarning)\n",
        "\n",
        "# n_clusters = 719  # Define the total number of clusters\n",
        "# batch_size = 1000  # Define the batch size\n",
        "\n",
        "# # Initialize an empty array to store all cluster labels\n",
        "# all_labels = []\n",
        "\n",
        "# # Split your data (X) into batches\n",
        "# num_samples = X.shape[0]\n",
        "# num_batches = int(np.ceil(num_samples / batch_size))\n",
        "\n",
        "# for batch_num in range(num_batches):\n",
        "#     start_idx = batch_num * batch_size\n",
        "#     end_idx = min((batch_num + 1) * batch_size, num_samples)\n",
        "\n",
        "#     # Extract the current batch\n",
        "#     batch = X[start_idx:end_idx]\n",
        "\n",
        "#     # Apply MiniBatchKMeans clustering to the current batch\n",
        "#     kmeans = MiniBatchKMeans(n_clusters=n_clusters, random_state=0).fit(batch)\n",
        "\n",
        "#     # Append the cluster labels to the list\n",
        "#     all_labels.append(kmeans.labels_)\n",
        "\n",
        "#     # Print progress\n",
        "#     # if batch_num % 10 == 0:  # Adjust the interval as needed\n",
        "#     print(f\"Processed batch {batch_num}/{num_batches}\")\n",
        "\n",
        "# # After processing all batches, concatenate the labels and assign them to the DataFrame\n",
        "# cluster_labels = np.concatenate(all_labels)\n",
        "\n",
        "# # Assign the cluster labels to the DataFrame\n",
        "# df_major['klabel'] = cluster_labels\n"
      ]
    },
    {
      "cell_type": "code",
      "execution_count": 31,
      "id": "55efc39d-017c-45db-a18b-00437fdfdd74",
      "metadata": {
        "id": "55efc39d-017c-45db-a18b-00437fdfdd74"
      },
      "outputs": [],
      "source": [
        "# df_major.head()"
      ]
    },
    {
      "cell_type": "code",
      "execution_count": null,
      "id": "631ae364-94e2-4845-a52d-ec5dfa481f8a",
      "metadata": {
        "id": "631ae364-94e2-4845-a52d-ec5dfa481f8a"
      },
      "outputs": [],
      "source": [
        "# cols = list(df_major)\n",
        "# cols.insert(81, cols.pop(cols.index('Attack')))\n",
        "# df_major = df_major.loc[:, cols]"
      ]
    },
    {
      "cell_type": "markdown",
      "id": "fe2a476c-3e57-4173-aec7-38bca358aea6",
      "metadata": {
        "id": "fe2a476c-3e57-4173-aec7-38bca358aea6"
      },
      "source": [
        "#### Shifting Attack column to the rightmost"
      ]
    },
    {
      "cell_type": "markdown",
      "id": "e3dc5fd6-ce00-4f43-9a97-33ea9e16512f",
      "metadata": {
        "id": "e3dc5fd6-ce00-4f43-9a97-33ea9e16512f"
      },
      "source": [
        "### Apply Sampling"
      ]
    },
    {
      "cell_type": "code",
      "execution_count": 32,
      "id": "861f4e48-380f-459d-9530-b7ffe71cfba5",
      "metadata": {
        "id": "861f4e48-380f-459d-9530-b7ffe71cfba5"
      },
      "outputs": [],
      "source": [
        "# # Define a function to apply the sampling within groups\n",
        "# def typicalSampling(group):\n",
        "#     name = group.name\n",
        "#     frac = 0.008\n",
        "#     return group.sample(frac=frac)\n",
        "\n",
        "# # Initialize an empty DataFrame to store the results\n",
        "# sampled_df = pd.DataFrame()\n",
        "\n",
        "# # Get unique 'klabel' values\n",
        "# unique_labels = df_major['klabel'].unique()\n",
        "\n",
        "# # Define the chunk size\n",
        "# chunk_size = 100\n",
        "\n",
        "# # Process data in chunks\n",
        "# for i in range(0, len(unique_labels), chunk_size):\n",
        "#     # Select a chunk of 'klabel' values\n",
        "#     labels_chunk = unique_labels[i:i + chunk_size]\n",
        "\n",
        "#     # Filter the DataFrame to include only the selected 'klabel' values\n",
        "#     filtered_data = df_major[df_major['klabel'].isin(labels_chunk)]\n",
        "\n",
        "#     # Apply typicalSampling to the filtered data\n",
        "#     sampled_chunk = filtered_data.groupby('klabel').apply(typicalSampling)\n",
        "\n",
        "#     # Append the sampled chunk to the result DataFrame\n",
        "#     sampled_df = pd.concat([sampled_df, sampled_chunk])\n",
        "\n",
        "#     # Print progress information\n",
        "#     print(f\"Processed {i + chunk_size} out of {len(unique_labels)} labels\")\n"
      ]
    },
    {
      "cell_type": "code",
      "execution_count": 33,
      "id": "49c5ae3c-e224-4189-ab1c-a8c42efb5c9f",
      "metadata": {
        "id": "49c5ae3c-e224-4189-ab1c-a8c42efb5c9f"
      },
      "outputs": [],
      "source": [
        "# sampled_df['Attack'].value_counts()"
      ]
    },
    {
      "cell_type": "code",
      "execution_count": 35,
      "id": "cc54c6b3-2924-4e27-8718-69929388de24",
      "metadata": {
        "id": "cc54c6b3-2924-4e27-8718-69929388de24"
      },
      "outputs": [],
      "source": [
        "# result = result.drop(['klabel'], axis=1)\n",
        "# result = pd.concat([result, df_minor], ignore_index=True)"
      ]
    },
    {
      "cell_type": "code",
      "execution_count": 36,
      "id": "9ff4ede5-b5cd-43b0-81e1-150aa302b48d",
      "metadata": {
        "id": "9ff4ede5-b5cd-43b0-81e1-150aa302b48d"
      },
      "outputs": [],
      "source": [
        "# result['Attack'].value_counts()"
      ]
    },
    {
      "cell_type": "code",
      "execution_count": 37,
      "id": "df9528f5-c33a-447d-925b-f9ef9c5f37fd",
      "metadata": {
        "id": "df9528f5-c33a-447d-925b-f9ef9c5f37fd"
      },
      "outputs": [],
      "source": [
        "# result.shape"
      ]
    },
    {
      "cell_type": "code",
      "execution_count": 38,
      "id": "12096de8-f1a0-4a83-8183-26afdce15921",
      "metadata": {
        "id": "12096de8-f1a0-4a83-8183-26afdce15921"
      },
      "outputs": [],
      "source": [
        "df.to_csv('/content/drive/MyDrive/MachineLearning/MTH-IDS/NSL-KDD/NSL-KDD_sampledataset.csv',index=0)"
      ]
    },
    {
      "cell_type": "code",
      "execution_count": null,
      "id": "91db1cba-d5ff-4342-b985-74249b3467ce",
      "metadata": {
        "id": "91db1cba-d5ff-4342-b985-74249b3467ce"
      },
      "outputs": [],
      "source": []
    }
  ],
  "metadata": {
    "kernelspec": {
      "display_name": "Python 3 (ipykernel)",
      "language": "python",
      "name": "python3"
    },
    "language_info": {
      "codemirror_mode": {
        "name": "ipython",
        "version": 3
      },
      "file_extension": ".py",
      "mimetype": "text/x-python",
      "name": "python",
      "nbconvert_exporter": "python",
      "pygments_lexer": "ipython3",
      "version": "3.12.0"
    },
    "colab": {
      "provenance": []
    }
  },
  "nbformat": 4,
  "nbformat_minor": 5
}